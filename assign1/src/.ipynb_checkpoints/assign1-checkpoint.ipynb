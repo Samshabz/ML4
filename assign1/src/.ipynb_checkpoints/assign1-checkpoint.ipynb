{
 "cells": [
  {
   "cell_type": "markdown",
   "metadata": {},
   "source": [
    "This assignment deals with principal component analysis (PCA) and linear discriminant analysis (LDA).\n",
    "\n",
    "# PCA\n",
    "First, you will experiment with PCA. This will also serve as your introduction to the scikit-learn library. For more information about the PCA module in the scikit-learn library, go to http://scikit-learn.org/stable/modules/decomposition.html#decompositions.\n",
    "\n",
    "One of the basic assumptions of machine learning is that the high dimensional data we observe actually occupies a much lower dimensional manifold. A good description of the low-dimensional manifold is highly desirable. In fact, this is exactly what we try to accomplish when we manufacture *features* for our system. In general, the manifolds will be nonlinear; PCA is an efficient technique for identifying linear, low-dimensional manifolds. \n",
    "\n",
    "This idea was exploited when the so-called eigenface approach for facial recognition was developed. Any image lives in a high dimensional space. If the image is $m\\times n$, then the dimension of the image space is $mn$. This is huge for even modest resolution images. Since we are, for this application, only interested in facial images, the question arises whether the facial images occupy a lower-dimensional subspace of the huge image space. If that is the case, the next question is how to describe that space, i.e. how do we extract features suitable for describing the space. \n",
    "\n",
    "We will briefly explore these idea below."
   ]
  },
  {
   "cell_type": "code",
   "execution_count": 1,
   "metadata": {},
   "outputs": [],
   "source": [
    "%matplotlib inline\n",
    "%load_ext autoreload\n",
    "%autoreload 2\n",
    "import numpy as np\n",
    "from matplotlib import pylab as plt\n",
    "from sklearn.decomposition import PCA\n",
    "from sklearn.discriminant_analysis import LinearDiscriminantAnalysis as LDA\n",
    "\n",
    "# Import different modules for using with the notebook\n",
    "from IPython.display import display\n",
    "from IPython.display import Image\n",
    "from IPython.display import HTML"
   ]
  },
  {
   "cell_type": "markdown",
   "metadata": {},
   "source": [
    "Run a simple example"
   ]
  },
  {
   "cell_type": "code",
   "execution_count": 2,
   "metadata": {},
   "outputs": [
    {
     "name": "stdout",
     "output_type": "stream",
     "text": [
      "[0.99244289 0.00755711]\n"
     ]
    }
   ],
   "source": [
    "X = np.array([[-1, -1], [-2, -1], [-3, -2], [1, 1], [2, 1], [3, 2]])\n",
    "pcaSimple = PCA(n_components=2)\n",
    "pcaSimple.fit(X)\n",
    "print(pcaSimple.explained_variance_ratio_) "
   ]
  },
  {
   "cell_type": "markdown",
   "metadata": {},
   "source": [
    "### Iris data set\n",
    "The previous example was just a warm-up. We now turn to the iris data set. The idea is to reproduce the image in the scikit-image website. This is one of the famous data sets widely used in machine learning, and it is included as one of the data sets in scikit-learn. For more information, see  http://archive.ics.uci.edu/ml/datasets/Iris .\n",
    "\n",
    "This data set represents measurements of 150 iris flowers, along with a response variable (target) indicating which of three iris species each set of measurements corresponds to.  Once the data is loaded, these species (classes) are simply 0, 1, and 2.\n"
   ]
  },
  {
   "cell_type": "code",
   "execution_count": 3,
   "metadata": {},
   "outputs": [],
   "source": [
    "from sklearn.datasets import load_iris\n",
    "iris_data = load_iris()\n",
    "data = iris_data.data\n",
    "labels = iris_data.target\n",
    "classes = set(labels)"
   ]
  },
  {
   "cell_type": "markdown",
   "metadata": {},
   "source": [
    "Fit the data with PCA.  First fit with 3 principal components in order to investigate how much of the variance is explained by the  components.\n",
    "\n",
    "Make sure you understand and can explain the meaning of `explained variance`, i.e. explain the meaning of the graph below."
   ]
  },
  {
   "cell_type": "code",
   "execution_count": 4,
   "metadata": {},
   "outputs": [
    {
     "data": {
      "image/png": "[encoded data removed]",
      "text/plain": [
       "<Figure size 640x480 with 1 Axes>"
      ]
     },
     "metadata": {},
     "output_type": "display_data"
    }
   ],
   "source": [
    "pcaIris = PCA(n_components=3)\n",
    "pcaIris.fit(data)\n",
    "plt.plot(pcaIris.explained_variance_ratio_)\n",
    "plt.show()\n",
    "\n"
   ]
  },
  {
   "cell_type": "markdown",
   "metadata": {},
   "source": [
    "# Projecting the data.\n",
    "\n",
    "Project the data onto the first two principal components. Since you have class labels you can plot the 2-dimensional representation of the 3 classes in different colours.  The idea is to see how much class separation is obtained by projecting onto the first two principal components.\n",
    "\n",
    "You should see something like the following - it will not be exactly the same, since the example image was generated on a subset of the data:\n",
    "\n",
    "(**You need to provide the code in the following code cell**)"
   ]
  },
  {
   "cell_type": "code",
   "execution_count": 6,
   "metadata": {},
   "outputs": [
    {
     "ename": "NameError",
     "evalue": "name 'iris' is not defined",
     "output_type": "error",
     "traceback": [
      "\u001b[0;31m---------------------------------------------------------------------------\u001b[0m",
      "\u001b[0;31mNameError\u001b[0m                                 Traceback (most recent call last)",
      "Cell \u001b[0;32mIn[6], line 10\u001b[0m\n\u001b[1;32m      8\u001b[0m colors \u001b[38;5;241m=\u001b[39m [\u001b[38;5;124m'\u001b[39m\u001b[38;5;124mnavy\u001b[39m\u001b[38;5;124m'\u001b[39m, \u001b[38;5;124m'\u001b[39m\u001b[38;5;124mturquoise\u001b[39m\u001b[38;5;124m'\u001b[39m, \u001b[38;5;124m'\u001b[39m\u001b[38;5;124mdarkorange\u001b[39m\u001b[38;5;124m'\u001b[39m]\n\u001b[1;32m      9\u001b[0m lw \u001b[38;5;241m=\u001b[39m \u001b[38;5;241m2\u001b[39m\n\u001b[0;32m---> 10\u001b[0m target_names \u001b[38;5;241m=\u001b[39m \u001b[43miris\u001b[49m\u001b[38;5;241m.\u001b[39mtarget_names\n\u001b[1;32m     12\u001b[0m \u001b[38;5;28;01mfor\u001b[39;00m color, i, target_name \u001b[38;5;129;01min\u001b[39;00m \u001b[38;5;28mzip\u001b[39m(colors, [\u001b[38;5;241m0\u001b[39m, \u001b[38;5;241m1\u001b[39m, \u001b[38;5;241m2\u001b[39m], target_names):\n\u001b[1;32m     13\u001b[0m     plt\u001b[38;5;241m.\u001b[39mscatter(X_r[y \u001b[38;5;241m==\u001b[39m i, \u001b[38;5;241m0\u001b[39m], X_r[y \u001b[38;5;241m==\u001b[39m i, \u001b[38;5;241m1\u001b[39m], color\u001b[38;5;241m=\u001b[39mcolor, alpha\u001b[38;5;241m=\u001b[39m\u001b[38;5;241m.8\u001b[39m, lw\u001b[38;5;241m=\u001b[39mlw,\n\u001b[1;32m     14\u001b[0m                 label\u001b[38;5;241m=\u001b[39mtarget_name)\n",
      "\u001b[0;31mNameError\u001b[0m: name 'iris' is not defined"
     ]
    },
    {
     "data": {
      "text/plain": [
       "<Figure size 640x480 with 0 Axes>"
      ]
     },
     "metadata": {},
     "output_type": "display_data"
    }
   ],
   "source": [
    "# Insert code to produce the image below\n",
    "# To accomplish the first coding task, we need to load the Iris dataset, perform PCA, \n",
    "# and plot the first two principal components in a scatter plot color-coded by class.\n",
    "\n",
    "\n",
    "# Plotting the PCA of the Iris dataset\n",
    "plt.figure()\n",
    "colors = ['navy', 'turquoise', 'darkorange']\n",
    "lw = 2\n",
    "target_names = iris.target_names\n",
    "\n",
    "for color, i, target_name in zip(colors, [0, 1, 2], target_names):\n",
    "    plt.scatter(X_r[y == i, 0], X_r[y == i, 1], color=color, alpha=.8, lw=lw,\n",
    "                label=target_name)\n",
    "plt.legend(loc='best', shadow=False, scatterpoints=1)\n",
    "plt.title('PCA of IRIS dataset')\n",
    "plt.show()\n",
    "\n"
   ]
  },
  {
   "cell_type": "code",
   "execution_count": null,
   "metadata": {},
   "outputs": [],
   "source": [
    "display(Image(filename='../resources/images/Iris_PCA.png'))"
   ]
  },
  {
   "cell_type": "markdown",
   "metadata": {},
   "source": [
    "### Face recognition\n",
    "\n",
    "A few years ago, facial recognition using the so-called eigenfaces was very much in fashion, see for example https://en.wikipedia.org/wiki/Eigenface. \n",
    "\n",
    "\n",
    "We now briefly explore the main ideas behind the eigenface approach using the Olivetti face database (provided to you as part of the assignment resources). \n",
    "\n",
    "\n",
    "First import  all .png files from all the directories inside a specified directory. Each  facial image is then converted to a flat array.\n"
   ]
  },
  {
   "cell_type": "code",
   "execution_count": 9,
   "metadata": {},
   "outputs": [
    {
     "name": "stderr",
     "output_type": "stream",
     "text": [
      "/usr/local/lib/python3.8/dist-packages/skimage/io/manage_plugins.py:23: UserWarning: Your installed pillow version is < 8.1.2. Several security issues (CVE-2021-27921, CVE-2021-25290, CVE-2021-25291, CVE-2021-25293, and more) have been fixed in pillow 8.1.2 or higher. We recommend to upgrade this library.\n",
      "  from .collection import imread_collection_wrapper\n"
     ]
    }
   ],
   "source": [
    "from skimage import io\n",
    "ic = io.ImageCollection('../data/att_faces/*/*.png')\n",
    "\n",
    "ic = np.array(ic)\n",
    "ic_flat = ic.reshape((len(ic), -1))  \n",
    "                                       "
   ]
  },
  {
   "cell_type": "code",
   "execution_count": 10,
   "metadata": {},
   "outputs": [
    {
     "data": {
      "text/plain": [
       "(399, 112, 92)"
      ]
     },
     "execution_count": 10,
     "metadata": {},
     "output_type": "execute_result"
    }
   ],
   "source": [
    "                            \n",
    "number,m,n = ic.shape\n",
    "ic.shape"
   ]
  },
  {
   "cell_type": "markdown",
   "metadata": {},
   "source": [
    "### Viewing the faces\n",
    "Import an image viewer that allows you to step through/view all the loaded images using iPython widgets."
   ]
  },
  {
   "cell_type": "code",
   "execution_count": 11,
   "metadata": {},
   "outputs": [
    {
     "data": {
      "application/vnd.jupyter.widget-view+json": {
       "model_id": "0e43cae94d1145a8919b3d26a707c375",
       "version_major": 2,
       "version_minor": 0
      },
      "text/plain": [
       "interactive(children=(IntSlider(value=0, description='n', max=398), Output()), _dom_classes=('widget-interact'…"
      ]
     },
     "metadata": {},
     "output_type": "display_data"
    }
   ],
   "source": [
    "from ipywidgets import interact\n",
    "\n",
    "def view_image(n=0):\n",
    "    plt.imshow(ic[n], cmap='gray', interpolation='nearest')\n",
    "    plt.show()\n",
    "\n",
    "w = interact(view_image, n=(0, len(ic)-1))"
   ]
  },
  {
   "cell_type": "code",
   "execution_count": 31,
   "metadata": {},
   "outputs": [
    {
     "data": {
      "text/html": [
       "<style>#sk-container-id-3 {color: black;background-color: white;}#sk-container-id-3 pre{padding: 0;}#sk-container-id-3 div.sk-toggleable {background-color: white;}#sk-container-id-3 label.sk-toggleable__label {cursor: pointer;display: block;width: 100%;margin-bottom: 0;padding: 0.3em;box-sizing: border-box;text-align: center;}#sk-container-id-3 label.sk-toggleable__label-arrow:before {content: \"▸\";float: left;margin-right: 0.25em;color: #696969;}#sk-container-id-3 label.sk-toggleable__label-arrow:hover:before {color: black;}#sk-container-id-3 div.sk-estimator:hover label.sk-toggleable__label-arrow:before {color: black;}#sk-container-id-3 div.sk-toggleable__content {max-height: 0;max-width: 0;overflow: hidden;text-align: left;background-color: #f0f8ff;}#sk-container-id-3 div.sk-toggleable__content pre {margin: 0.2em;color: black;border-radius: 0.25em;background-color: #f0f8ff;}#sk-container-id-3 input.sk-toggleable__control:checked~div.sk-toggleable__content {max-height: 200px;max-width: 100%;overflow: auto;}#sk-container-id-3 input.sk-toggleable__control:checked~label.sk-toggleable__label-arrow:before {content: \"▾\";}#sk-container-id-3 div.sk-estimator input.sk-toggleable__control:checked~label.sk-toggleable__label {background-color: #d4ebff;}#sk-container-id-3 div.sk-label input.sk-toggleable__control:checked~label.sk-toggleable__label {background-color: #d4ebff;}#sk-container-id-3 input.sk-hidden--visually {border: 0;clip: rect(1px 1px 1px 1px);clip: rect(1px, 1px, 1px, 1px);height: 1px;margin: -1px;overflow: hidden;padding: 0;position: absolute;width: 1px;}#sk-container-id-3 div.sk-estimator {font-family: monospace;background-color: #f0f8ff;border: 1px dotted black;border-radius: 0.25em;box-sizing: border-box;margin-bottom: 0.5em;}#sk-container-id-3 div.sk-estimator:hover {background-color: #d4ebff;}#sk-container-id-3 div.sk-parallel-item::after {content: \"\";width: 100%;border-bottom: 1px solid gray;flex-grow: 1;}#sk-container-id-3 div.sk-label:hover label.sk-toggleable__label {background-color: #d4ebff;}#sk-container-id-3 div.sk-serial::before {content: \"\";position: absolute;border-left: 1px solid gray;box-sizing: border-box;top: 0;bottom: 0;left: 50%;z-index: 0;}#sk-container-id-3 div.sk-serial {display: flex;flex-direction: column;align-items: center;background-color: white;padding-right: 0.2em;padding-left: 0.2em;position: relative;}#sk-container-id-3 div.sk-item {position: relative;z-index: 1;}#sk-container-id-3 div.sk-parallel {display: flex;align-items: stretch;justify-content: center;background-color: white;position: relative;}#sk-container-id-3 div.sk-item::before, #sk-container-id-3 div.sk-parallel-item::before {content: \"\";position: absolute;border-left: 1px solid gray;box-sizing: border-box;top: 0;bottom: 0;left: 50%;z-index: -1;}#sk-container-id-3 div.sk-parallel-item {display: flex;flex-direction: column;z-index: 1;position: relative;background-color: white;}#sk-container-id-3 div.sk-parallel-item:first-child::after {align-self: flex-end;width: 50%;}#sk-container-id-3 div.sk-parallel-item:last-child::after {align-self: flex-start;width: 50%;}#sk-container-id-3 div.sk-parallel-item:only-child::after {width: 0;}#sk-container-id-3 div.sk-dashed-wrapped {border: 1px dashed gray;margin: 0 0.4em 0.5em 0.4em;box-sizing: border-box;padding-bottom: 0.4em;background-color: white;}#sk-container-id-3 div.sk-label label {font-family: monospace;font-weight: bold;display: inline-block;line-height: 1.2em;}#sk-container-id-3 div.sk-label-container {text-align: center;}#sk-container-id-3 div.sk-container {/* jupyter's `normalize.less` sets `[hidden] { display: none; }` but bootstrap.min.css set `[hidden] { display: none !important; }` so we also need the `!important` here to be able to override the default hidden behavior on the sphinx rendered scikit-learn.org. See: https://github.com/scikit-learn/scikit-learn/issues/21755 */display: inline-block !important;position: relative;}#sk-container-id-3 div.sk-text-repr-fallback {display: none;}</style><div id=\"sk-container-id-3\" class=\"sk-top-container\"><div class=\"sk-text-repr-fallback\"><pre>PCA(n_components=399)</pre><b>In a Jupyter environment, please rerun this cell to show the HTML representation or trust the notebook. <br />On GitHub, the HTML representation is unable to render, please try loading this page with nbviewer.org.</b></div><div class=\"sk-container\" hidden><div class=\"sk-item\"><div class=\"sk-estimator sk-toggleable\"><input class=\"sk-toggleable__control sk-hidden--visually\" id=\"sk-estimator-id-3\" type=\"checkbox\" checked><label for=\"sk-estimator-id-3\" class=\"sk-toggleable__label sk-toggleable__label-arrow\">PCA</label><div class=\"sk-toggleable__content\"><pre>PCA(n_components=399)</pre></div></div></div></div></div>"
      ],
      "text/plain": [
       "PCA(n_components=399)"
      ]
     },
     "execution_count": 31,
     "metadata": {},
     "output_type": "execute_result"
    }
   ],
   "source": [
    "pcaFaces = PCA(n_components=200)\n",
    "pcaFaces.fit(ic_flat)"
   ]
  },
  {
   "cell_type": "markdown",
   "metadata": {},
   "source": [
    "### The fraction of the total variance captured by the principal directions.\n",
    "\n",
    "The question arises how many principal components are needed to capture a significant amount of information of a face. For this it is useful to calculate the fraction of the total variance explained by $n$ components. Since this is such a useful quantity to investigate, scikit-learn provides it for us.\n",
    "\n",
    "\n",
    "Note that the variance drops off very quickly. For something like $n=50$ components a significant proportion of the total variance is already captured. \n",
    "\n",
    "**Plot the explained variance.** You should see something like the following:"
   ]
  },
  {
   "cell_type": "code",
   "execution_count": 32,
   "metadata": {},
   "outputs": [
    {
     "data": {
      "image/png": "[encoded data removed]",
      "text/plain": [
       "<Figure size 640x480 with 1 Axes>"
      ]
     },
     "metadata": {},
     "output_type": "display_data"
    }
   ],
   "source": [
    "# Insert code to produce the image below\n",
    "plt.plot(pcaFaces.explained_variance_ratio_)\n",
    "plt.show()\n"
   ]
  },
  {
   "cell_type": "code",
   "execution_count": 33,
   "metadata": {},
   "outputs": [
    {
     "data": {
      "image/png": "[encoded data removed]",
      "text/plain": [
       "<IPython.core.display.Image object>"
      ]
     },
     "metadata": {},
     "output_type": "display_data"
    }
   ],
   "source": [
    "display(Image(filename='../resources/images/Faces_expl_var.png'))"
   ]
  },
  {
   "cell_type": "markdown",
   "metadata": {},
   "source": [
    "### Projecting the faces onto the eigenfaces.\n",
    "\n",
    "Now project all the images onto the 200 eigenfaces defined above. In order to visualise how much is lost, the projected images are projected back onto the original space. They are then reshaped and displayed."
   ]
  },
  {
   "cell_type": "code",
   "execution_count": 34,
   "metadata": {},
   "outputs": [],
   "source": [
    "pr_ic_flat = pcaFaces.transform(ic_flat)\n",
    "back_pr_ic_flat = pcaFaces.inverse_transform(pr_ic_flat)"
   ]
  },
  {
   "cell_type": "markdown",
   "metadata": {},
   "source": [
    "Restore the flattened array into its original shape, then view the restored images.  Keeping in mind that the dimension of the images are reduced from 10304 to 200, the reconstruction is quite good."
   ]
  },
  {
   "cell_type": "code",
   "execution_count": 35,
   "metadata": {},
   "outputs": [
    {
     "data": {
      "application/vnd.jupyter.widget-view+json": {
       "model_id": "048e4536332648139d4560d0aac9481c",
       "version_major": 2,
       "version_minor": 0
      },
      "text/plain": [
       "interactive(children=(IntSlider(value=0, description='n', max=398), Output()), _dom_classes=('widget-interact'…"
      ]
     },
     "metadata": {},
     "output_type": "display_data"
    }
   ],
   "source": [
    "ic_restore = back_pr_ic_flat.reshape((number,m,n))\n",
    "\n",
    "def view_image(n=0):\n",
    "    plt.imshow(ic_restore[n],cmap='gray', interpolation='nearest')\n",
    "    plt.show()\n",
    "\n",
    "w = interact(view_image, n=(0, len(ic)-1))\n"
   ]
  },
  {
   "cell_type": "markdown",
   "metadata": {},
   "source": [
    "### Projecting something else\n",
    "\n",
    "Above, we represented faces used to derive the eigenfaces in terms of the the eigenfaces. Not surprisingly the results are quite good. But the real interest is in faces not part of the training set.\n",
    "\n",
    "We now project such a face. (See what happens if you try some else's face!)\n",
    "\n",
    "First read in the face:"
   ]
  },
  {
   "cell_type": "code",
   "execution_count": 39,
   "metadata": {},
   "outputs": [
    {
     "name": "stdout",
     "output_type": "stream",
     "text": [
      "[48 49 45 ... 47 46 46]\n"
     ]
    }
   ],
   "source": [
    "ben = io.ImageCollection('../resources/images/Ben_bw.png')[0]\n",
    "ben = io.ImageCollection('../data/att_faces/s1/1.png')[0]\n",
    "ben = np.array(ben)\n",
    "ben\n",
    "\n",
    "ben_flattened = ben.flatten()\n",
    "\n",
    "# To display or use the 1D array, you can print or visualize it as needed\n",
    "print(ben_flattened)\n",
    "\n",
    "\n"
   ]
  },
  {
   "cell_type": "code",
   "execution_count": 40,
   "metadata": {},
   "outputs": [
    {
     "data": {
      "text/plain": [
       "<matplotlib.image.AxesImage at 0x7f09c20c7460>"
      ]
     },
     "execution_count": 40,
     "metadata": {},
     "output_type": "execute_result"
    },
    {
     "data": {
      "image/png": "[encoded data removed]",
      "text/plain": [
       "<Figure size 640x480 with 1 Axes>"
      ]
     },
     "metadata": {},
     "output_type": "display_data"
    }
   ],
   "source": [
    "\n",
    "ben = ben.reshape(1,-1)\n",
    "\n",
    "xcx= pcaFaces.transform(ben)\n",
    "xcx= pcaFaces.inverse_transform(xcx)\n",
    "\n",
    "plt.imshow(xcx.reshape(112,92),cmap='gray')\n"
   ]
  },
  {
   "cell_type": "markdown",
   "metadata": {},
   "source": [
    "**Now display the face**. You should see something like:"
   ]
  },
  {
   "cell_type": "code",
   "execution_count": null,
   "metadata": {},
   "outputs": [],
   "source": [
    "display(Image(filename='../resources/images/Ben_bw_wm.png'))"
   ]
  },
  {
   "cell_type": "code",
   "execution_count": null,
   "metadata": {},
   "outputs": [],
   "source": [
    "# Insert code to produce the image above (from the array!)\n",
    "\n",
    "# Display the image from the array\n",
    "plt.imshow(ben, cmap='gray')\n",
    "plt.show()\n"
   ]
  },
  {
   "cell_type": "markdown",
   "metadata": {},
   "source": [
    "**Flatten the face, project it onto 200 eigenfaces, restore it from the projection, and display.**\n",
    "\n",
    "You should see something like:"
   ]
  },
  {
   "cell_type": "code",
   "execution_count": null,
   "metadata": {},
   "outputs": [],
   "source": [
    "display(Image(filename='../resources/images/Ben_recon.png'))"
   ]
  },
  {
   "cell_type": "code",
   "execution_count": null,
   "metadata": {},
   "outputs": [],
   "source": [
    "##CODE HERE"
   ]
  },
  {
   "cell_type": "markdown",
   "metadata": {},
   "source": [
    "### Signatures\n",
    "\n",
    "We are also going to use signatures in this course to illustrate various aspects of machine learning. One interesting task is building a signature verification system. One approach to do that is constructing a probabilistic model from a number of training signatures of each signatory (each individual in a database). This probabilistic model should capture and describe the natural variations between different signatures for each signatory. This of course has to be learned from the training signatures.\n",
    "\n",
    "But signatures also vary as to the origin of whatever coordinate system we use, the size and (in-plane) rotation. It might be possible to also ask the system to recognize signatures at different positions, sizes and rotations, as the same signature. This however, vastly complicates the system and will demand a very large training set representing all these different situations. Instead, it is much easier to do some pre-processing normalizing the signatures. \n",
    "\n",
    "Although it will fail on some signatures, PCA is a valuable, simple tool for doing just this. At the same time it provides a great illustration of the underlying mechanism of the singular value decomposition. \n",
    "\n",
    "The next exercise will guide you through it.\n",
    "\n",
    "First we import and display a signature. Feel free to experiment with other signatures.\n",
    "\n",
    "Note that these signatures were captured on a digitising tablet, capturing the $x$ and $y$ coordinates, the pen pressure, the pen angle(tilt) and the pen direction. For now, we will only use the $x$ and $y$ coordinates, which are the first two features in the provided data.\n",
    "\n",
    "**Note on the code that you will write:**\n",
    "\n",
    "You will first calculate the SVD of the signature data (just for the $x,y$ coordinates). Then you will use the SVD factors to successively transform the orignal signature data. First you will simply rotate the data, then you will scale the data so that the standard deviation along the first principal axis equals 1, and finally, you will whiten the data."
   ]
  },
  {
   "cell_type": "code",
   "execution_count": null,
   "metadata": {},
   "outputs": [],
   "source": [
    "sign_full = np.loadtxt('../data/sign/sign3/sigtrain3_1.txt',comments = '%')  # Read Signature\n",
    "\n",
    "sign = sign_full[:,:2].T\n",
    "\n",
    "plt.plot(sign[0,:],sign[1,:])\n",
    "plt.axis('equal')\n",
    "plt.title('The original signature.')\n",
    "plt.show()"
   ]
  },
  {
   "cell_type": "markdown",
   "metadata": {},
   "source": [
    "### Removing the mean\n",
    "\n",
    "The first step is to remove the mean of the signature. This centers the signature, i.e. normalizes it with respect to position. "
   ]
  },
  {
   "cell_type": "code",
   "execution_count": null,
   "metadata": {},
   "outputs": [],
   "source": [
    "d,n = sign.shape\n",
    "mean = np.mean(sign,axis=1)[:,np.newaxis]\n",
    "sign = (sign - mean)\n",
    "\n",
    "plt.plot(sign[0,:],sign[1,:])\n",
    "plt.axis('equal')\n",
    "plt.title('The original signature, mean removed.')\n",
    "plt.show()"
   ]
  },
  {
   "cell_type": "markdown",
   "metadata": {},
   "source": [
    "### Calculating the principal components\n",
    "\n",
    "We calculate the principal components using the SVD. We illustrate the principal directions as well as the one standard deviation by calculating the one standard deviation ellipse, aligned along the principal directions. \n",
    "\n",
    "**Getting the sign right**: Since the sign of eigenvectors (principal directions) is not determined, there is no way of predicting whether they are returned with a specific sign. In this case it matters because if the sign is wrong, the signature is reflected around the coordinate axis. It is therefore necessary to check whether the sign is correct, and if not, flip it. The simple expedient used here is to assume that the signatures are produced from left to right. This means that the $x$ component of the first principal direction, and the $y$ component of the second principal direction should both be positive. This will obviously not catch all cases, but should hopefully work for most cases.\n",
    "\n",
    "Once we have a suitable SVD, the code defines a circle which will be mapped to an ellipse using the covariance of the data (signature).  Have a good look at the details of this calculation."
   ]
  },
  {
   "cell_type": "code",
   "execution_count": null,
   "metadata": {},
   "outputs": [],
   "source": [
    "# Calculate the principal directions using the SVD\n",
    "u, s, vh = np.linalg.svd(sign,full_matrices=False)\n",
    "\n",
    "sgn = np.sign(u[0,0])\n",
    "u[:,0] = sgn*u[:,0]\n",
    "vh[0,:] = sgn*vh[0,:]\n",
    "\n",
    "sgn = np.sign(u[1,1])\n",
    "u[:,1] = sgn*u[:,1]\n",
    "vh[1,:] = sgn*vh[1,:]\n",
    "\n",
    "# Define Circle\n",
    "ang = np.linspace(0,2*np.pi,500)\n",
    "x = np.cos(ang); y = np.sin(ang)\n",
    "circ = np.vstack((x,y))\n",
    "\n",
    "# Ellipse aligned with principal directions, one standard deviation intersect.\n",
    "# Note scaling of singular values so that scaled values express the standard deviations.\n",
    "ell = u.dot(np.diag(s/np.sqrt(n))).dot(circ)\n",
    "\n",
    "plt.plot(sign[0,:],sign[1,:])\n",
    "plt.plot(ell[0,:],ell[1,:],'r')\n",
    "plt.axis('equal')\n",
    "plt.title('The original signature, with ellipse.')\n",
    "plt.show()"
   ]
  },
  {
   "cell_type": "markdown",
   "metadata": {},
   "source": [
    "### Rotating the signature\n",
    "\n",
    "**Rotate the signature so that the principal axes coincide with the coordinate axes.**\n",
    "\n",
    "Do this by using **only** the SVD components. Do **not** rotate by multiplying the original with a rotation matrix.\n",
    "\n",
    "You should see something like:\n",
    "\n"
   ]
  },
  {
   "cell_type": "code",
   "execution_count": null,
   "metadata": {},
   "outputs": [],
   "source": [
    "display(Image(filename='../resources/images/sign_rot.png'))"
   ]
  },
  {
   "cell_type": "code",
   "execution_count": null,
   "metadata": {},
   "outputs": [],
   "source": [
    "# Insert code to produce the image above\n"
   ]
  },
  {
   "cell_type": "markdown",
   "metadata": {},
   "source": [
    "### Scale the signature\n",
    "\n",
    "**Scale the signature, preserving the aspect ratio so that the standard deviation along the first principal axis is 1.**\n",
    "\n",
    "You should see the following (it looks very much like the previous image, except for the scale):"
   ]
  },
  {
   "cell_type": "code",
   "execution_count": null,
   "metadata": {},
   "outputs": [],
   "source": [
    "# Insert code to produce the image below\n"
   ]
  },
  {
   "cell_type": "code",
   "execution_count": null,
   "metadata": {},
   "outputs": [],
   "source": [
    "display(Image(filename='../resources/images/sign_rot_scale.png'))"
   ]
  },
  {
   "cell_type": "markdown",
   "metadata": {},
   "source": [
    "### Whiten the signature\n",
    "\n",
    "**Now scale the signature without preserving the aspect ratio, so that the standard deviations along both principal directions equal 1.**\n",
    "\n",
    "You should see:\n",
    "\n",
    "(Note that the ellipse has become a circle!)"
   ]
  },
  {
   "cell_type": "code",
   "execution_count": null,
   "metadata": {},
   "outputs": [],
   "source": [
    "# Insert code to produce the image below\n"
   ]
  },
  {
   "cell_type": "code",
   "execution_count": null,
   "metadata": {},
   "outputs": [],
   "source": [
    "display(Image(filename='../resources/images/sign_white.png'))"
   ]
  },
  {
   "cell_type": "markdown",
   "metadata": {},
   "source": [
    "# Some more investigation for PCA\n",
    "\n",
    "\n",
    "* Above you projected the face not in the database `Ben_bw.png` onto 200 eigenfaces. Now write a function that will take the number of eigenfaces as an parameter to to the reconstruction. Make use of the `interact` function to scroll through the reconstructions as the parameter is varied. Choose the number of components you want to display.\n",
    "\n",
    "* Use all five features of the signatures. First investigate whether the data is really 5 dimensional by investigating the magnitudes of the singular values.\n",
    "\n",
    "* Project the 5 dimensional signature onto the first two principal components. Then reconstruct the 5 dimensional signature from the projected data and display the signature again by plotting the (x, y) coordinates. How much information do you lose by projecting down to two dimensions."
   ]
  },
  {
   "cell_type": "markdown",
   "metadata": {},
   "source": [
    "# Linear Discriminant Analysis (LDA)\n",
    "\n",
    "The PCA encountered above can be viewed as a dimensionality reduction scheme, projecting onto the directions with maximal variance.\n",
    "\n",
    "LDA is also a dimensionality reduction scheme but operates on a very different principle. Now we are given data that are labelled as belonging to different classes: We are given both the input value $x$ and a class label $y$ corresponding to $x$ for each data point. If we have $k$ classes then $y$ will take on one of $k$ values. (In Python, we'll typically use the values 0 through $k-1$.)\n",
    "\n",
    "The idea is now to project the data onto a lower-dimensional space in such a way that maximal *class separation* is achieved in the lower-dimensional space.  Thus, the axis system we choose will no longer only maximize variance, but it will instead help to more clearly distinguish class membership.\n",
    "\n",
    "You can learn more about the scikit-learn implementation of LDA at https://scikit-learn.org/stable/modules/generated/sklearn.discriminant_analysis.LinearDiscriminantAnalysis.html\n",
    "\n",
    "You will investigate the difference between PCA and LDA using the wine data set - for more information see  http://archive.ics.uci.edu/ml/datasets/Wine. Since the wine dataset is 13-dimensional, the difference between PCA and LDA is more pronounced than with the Iris data set. \n",
    "\n",
    "We project down to 2 dimensions for easy visualization. In fact, since there are only 3 classes, one does not retain any more information by using higher dimensions. (Make sure you understand why!)"
   ]
  },
  {
   "cell_type": "markdown",
   "metadata": {},
   "source": [
    "### Simple example\n",
    "\n",
    "As a warmup run the example from the scikit-learn website.  What is this code doing?"
   ]
  },
  {
   "cell_type": "code",
   "execution_count": null,
   "metadata": {},
   "outputs": [],
   "source": [
    "X = np.array([[-1, -1], [-2, -1], [-3, -2], [1, 1], [2, 1], [3, 2]])\n",
    "y = np.array([1, 1, 1, 2, 2, 2])\n",
    "clf = LDA()\n",
    "clf.fit(X, y)\n",
    "print(clf.predict([[-0.8, -1]]))"
   ]
  },
  {
   "cell_type": "markdown",
   "metadata": {},
   "source": [
    "### Loading the data\n",
    "\n",
    "Read the data, extract the class labels from the last column, then extract the names of the classes using the convenient `set` type."
   ]
  },
  {
   "cell_type": "code",
   "execution_count": null,
   "metadata": {},
   "outputs": [],
   "source": [
    "wine_train = np.loadtxt('../data/wine/wine_train.txt',delimiter = ',')\n",
    "wine_train_labels = wine_train[:,-1]\n",
    "wine_train_classes = list(set(wine_train_labels))\n",
    "wine_train_classes = np.array(wine_train_classes,dtype=int)\n",
    "wine_train_labels = np.array(wine_train_labels,dtype = int)\n",
    "wine_train = wine_train[:,:-1]\n",
    "\n",
    "wine_test = np.loadtxt('../data/wine/wine_test.txt',delimiter = ',')\n",
    "wine_test_labels = wine_test[:,-1]\n",
    "wine_test_classes = list(set(wine_test_labels))\n",
    "wine_test_classes = np.array(wine_test_classes,dtype=int)\n",
    "wine_test_labels = np.array(wine_test_labels,dtype = int)\n",
    "wine_test = wine_test[:,:-1]"
   ]
  },
  {
   "cell_type": "markdown",
   "metadata": {},
   "source": [
    "### PCA\n",
    "\n",
    "**Project the data onto 2 PCA components and display the classes of the dimension-reduced data.**\n",
    "\n",
    "You should see something like:"
   ]
  },
  {
   "cell_type": "code",
   "execution_count": null,
   "metadata": {},
   "outputs": [],
   "source": [
    "# Insert code to produce the image below\n"
   ]
  },
  {
   "cell_type": "code",
   "execution_count": null,
   "metadata": {},
   "outputs": [],
   "source": [
    "display(Image(filename='../resources/images/Wine_PCA.png'))"
   ]
  },
  {
   "cell_type": "markdown",
   "metadata": {},
   "source": [
    "### LDA\n",
    "\n",
    "**Fit an LDA model to the data, using 2 components and display the different classes of the projected data.**\n",
    "\n",
    "You should see: "
   ]
  },
  {
   "cell_type": "code",
   "execution_count": null,
   "metadata": {},
   "outputs": [],
   "source": [
    "# Insert code to produce the image below\n"
   ]
  },
  {
   "cell_type": "code",
   "execution_count": null,
   "metadata": {},
   "outputs": [],
   "source": [
    "display(Image(filename='../resources/images/LDA_pr.png'))"
   ]
  },
  {
   "cell_type": "markdown",
   "metadata": {},
   "source": [
    "There should be no doubt that the LDA projection is much better at preserving the class structure.  However, to quantify it, you can use your nearest neighbour classifier from Assignment 0 to compare the classification performance when using the means of the original data, versus transforming data with LDA or PCA.  One way to summarize your findings is with a *confusion matrix*."
   ]
  },
  {
   "cell_type": "markdown",
   "metadata": {
    "collapsed": true
   },
   "source": [
    "# Do it yourself!\n",
    "\n",
    "Much of what you have done above made use of the PCA and LDA libraries.  Now write your own code to perform first PCA and then LDA, and use it to analyze the above data sets (and some others you find online).  The idea is to get a thorough understanding of the process *and intermediate steps* when performing PCA and LDA.  Your implementations can still make use of the SVD or eigenvalue decomposition subroutines (try implementing it with both approaches) - implementing those is outside the scope of this course.\n",
    "\n",
    "Do some small examples by hand to use as test cases.  If your hand-calculated approach or the result of your implementation differs from those in sklearn, try to figure out why.\n",
    "\n",
    "Some advice:\n",
    "* Add an option to perform whitening in the PCA implementation.\n",
    "* Implement the LDA using your PCA implementation.  To do this, you will need the whitening option above, but also the ability to construct principal components directly from a covariance matrix, rather than the underlying data.  So provide an option to PCA indicating whether you are providing a data matrix or a covariance matrix.\n",
    "* When performing PCA on a data matrix, you will generally first want to centre the data before calculating the SVD.  When transforming future points, or performing reconstruction, you will need to take the mean into account."
   ]
  },
  {
   "cell_type": "code",
   "execution_count": null,
   "metadata": {},
   "outputs": [],
   "source": []
  }
 ],
 "metadata": {
  "kernelspec": {
   "display_name": "Python 3 (ipykernel)",
   "language": "python",
   "name": "python3"
  },
  "language_info": {
   "codemirror_mode": {
    "name": "ipython",
    "version": 3
   },
   "file_extension": ".py",
   "mimetype": "text/x-python",
   "name": "python",
   "nbconvert_exporter": "python",
   "pygments_lexer": "ipython3",
   "version": "3.8.10"
  },
  "widgets": {
   "state": {
    "38c5b2b6c6d74d37b46de647d225dc8f": {
     "views": []
    },
    "72c2654435584255b320861eada3d2b4": {
     "views": []
    },
    "b3c085587e64493f836227308d5a3f59": {
     "views": [
      {
       "cell_index": 22
      }
     ]
    },
    "bad247c624e5476aa5b0929677785766": {
     "views": []
    },
    "c485e39c251748f99a87d2f43487a708": {
     "views": []
    },
    "cb73266b885a48e2a2702da4ac7d1067": {
     "views": [
      {
       "cell_index": 14
      }
     ]
    },
    "fe68ff8f0eed4d11a0908acd39d3187e": {
     "views": []
    },
    "ffb048e35cff4f828006fa662c85c980": {
     "views": []
    }
   },
   "version": "1.1.2"
  }
 },
 "nbformat": 4,
 "nbformat_minor": 1
}
